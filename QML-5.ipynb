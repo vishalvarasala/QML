{
  "nbformat": 4,
  "nbformat_minor": 0,
  "metadata": {
    "colab": {
      "provenance": [],
      "authorship_tag": "ABX9TyNth3vh+OvbMG7j4N/u5kyK",
      "include_colab_link": true
    },
    "kernelspec": {
      "name": "python3",
      "display_name": "Python 3"
    },
    "language_info": {
      "name": "python"
    }
  },
  "cells": [
    {
      "cell_type": "markdown",
      "metadata": {
        "id": "view-in-github",
        "colab_type": "text"
      },
      "source": [
        "<a href=\"https://colab.research.google.com/github/vishalvarasala/QML/blob/main/QML-5.ipynb\" target=\"_parent\"><img src=\"https://colab.research.google.com/assets/colab-badge.svg\" alt=\"Open In Colab\"/></a>"
      ]
    },
    {
      "cell_type": "code",
      "execution_count": 2,
      "metadata": {
        "colab": {
          "base_uri": "https://localhost:8080/"
        },
        "id": "p7lWw4PB2j7e",
        "outputId": "7e6ca115-4d88-483a-f1b2-528af186d7fb"
      },
      "outputs": [
        {
          "output_type": "stream",
          "name": "stdout",
          "text": [
            "\n",
            "==================================================\n",
            "TASK 4: COMMUTATION RELATIONS AND EULER ANGLES\n",
            "==================================================\n",
            "Commutation relations:\n",
            "[σₓ, σᵧ] = [[0.+2.j 0.+0.j]\n",
            " [0.+0.j 0.-2.j]]\n",
            "[σᵧ, σᵨ] = [[0.+0.j 0.+2.j]\n",
            " [0.+2.j 0.+0.j]]\n",
            "[σᵨ, σₓ] = [[ 0  2]\n",
            " [-2  0]]\n",
            "\n",
            "Anticommutation relations:\n",
            "{σₓ, σᵧ} = [[0.+0.j 0.+0.j]\n",
            " [0.+0.j 0.+0.j]]\n",
            "{σₓ, σₓ} = [[2 0]\n",
            " [0 2]]\n",
            "\n",
            "Hadamard gate:\n",
            "[[ 0.70710678  0.70710678]\n",
            " [ 0.70710678 -0.70710678]]\n",
            "Euler decomposition:\n",
            "[[ 4.32978028e-17-7.07106781e-01j  7.07106781e-01-4.32978028e-17j]\n",
            " [-7.07106781e-01-4.32978028e-17j  4.32978028e-17+7.07106781e-01j]]\n",
            "Difference: 1.4142135624\n"
          ]
        }
      ],
      "source": [
        "import numpy as np\n",
        "\n",
        "print(\"\\n\" + \"=\"*50)\n",
        "print(\"TASK 4: COMMUTATION RELATIONS AND EULER ANGLES\")\n",
        "print(\"=\"*50)\n",
        "\n",
        "def commutator(A, B):\n",
        "    \"\"\"Compute commutator [A,B] = AB - BA\"\"\"\n",
        "    return A @ B - B @ A\n",
        "\n",
        "def anticommutator(A, B):\n",
        "    \"\"\"Compute anticommutator {A,B} = AB + BA\"\"\"\n",
        "    return A @ B + B @ A\n",
        "\n",
        "# Define Pauli matrices\n",
        "pauli_x = np.array([[0, 1], [1, 0]])\n",
        "pauli_y = np.array([[0, -1j], [1j, 0]])\n",
        "pauli_z = np.array([[1, 0], [0, -1]])\n",
        "\n",
        "\n",
        "# Verify Pauli commutation relations\n",
        "print(\"Commutation relations:\")\n",
        "print(\"[σₓ, σᵧ] =\", commutator(pauli_x, pauli_y))\n",
        "print(\"[σᵧ, σᵨ] =\", commutator(pauli_y, pauli_z))\n",
        "print(\"[σᵨ, σₓ] =\", commutator(pauli_z, pauli_x))\n",
        "\n",
        "print(\"\\nAnticommutation relations:\")\n",
        "print(\"{σₓ, σᵧ} =\", anticommutator(pauli_x, pauli_y))\n",
        "print(\"{σₓ, σₓ} =\", anticommutator(pauli_x, pauli_x))\n",
        "\n",
        "# Euler angle decomposition for single-qubit gates\n",
        "def euler_decomposition(theta, phi, lam):\n",
        "    \"\"\"Decompose single-qubit gate using Euler angles\"\"\"\n",
        "    return (np.cos(theta/2) * np.eye(2) -\n",
        "            1j * np.sin(theta/2) * (np.cos(phi) * pauli_x +\n",
        "                                   np.sin(phi) * pauli_y)) @ \\\n",
        "           np.array([[np.exp(-1j*lam/2), 0], [0, np.exp(1j*lam/2)]])\n",
        "\n",
        "# Example: Hadamard gate decomposition\n",
        "hadamard = np.array([[1, 1], [1, -1]]) / np.sqrt(2)\n",
        "euler_h = euler_decomposition(np.pi/2, 0, np.pi)\n",
        "print(f\"\\nHadamard gate:\\n{hadamard}\")\n",
        "print(f\"Euler decomposition:\\n{euler_h}\")\n",
        "print(f\"Difference: {np.max(np.abs(hadamard - euler_h)):.10f}\")"
      ]
    },
    {
      "cell_type": "code",
      "source": [
        "import numpy as np\n",
        "\n",
        "print(\"\\n\" + \"=\"*50)\n",
        "print(\"TASK 5: CNOT GATE AND QUANTUM TELEPORTATION\")\n",
        "print(\"=\"*50)\n",
        "\n",
        "# CNOT gate matrix (control qubit first)\n",
        "cnot = np.array([[1, 0, 0, 0],\n",
        "                 [0, 1, 0, 0],\n",
        "                 [0, 0, 0, 1],\n",
        "                 [0, 0, 1, 0]])\n",
        "\n",
        "print(\"CNOT gate matrix:\")\n",
        "print(cnot)\n",
        "\n",
        "# Test CNOT on computational basis states\n",
        "basis_00 = np.array([1, 0, 0, 0])  # |00⟩\n",
        "basis_01 = np.array([0, 1, 0, 0])  # |01⟩\n",
        "basis_10 = np.array([0, 0, 1, 0])  # |10⟩\n",
        "basis_11 = np.array([0, 0, 0, 1])  # |11⟩\n",
        "\n",
        "print(f\"\\nCNOT|00⟩ = {cnot @ basis_00}\")\n",
        "print(f\"CNOT|01⟩ = {cnot @ basis_01}\")\n",
        "print(f\"CNOT|10⟩ = {cnot @ basis_10}\")\n",
        "print(f\"CNOT|11⟩ = {cnot @ basis_11}\")\n",
        "\n",
        "def tensor_product(A, B):\n",
        "    \"\"\"Compute the tensor product (Kronecker product) of two arrays.\"\"\"\n",
        "    return np.kron(A, B)\n",
        "\n",
        "# Simplified quantum teleportation simulation\n",
        "def quantum_teleportation_sim():\n",
        "    \"\"\"Simulate quantum teleportation protocol\"\"\"\n",
        "    # State to teleport: |ψ⟩ = α|0⟩ + β|1⟩\n",
        "    alpha, beta = 0.6, 0.8\n",
        "    psi = np.array([alpha, beta])\n",
        "\n",
        "    # Create Bell pair |Φ⁺⟩ = (|00⟩ + |11⟩)/√2\n",
        "    bell_pair = np.array([1, 0, 0, 1]) / np.sqrt(2)\n",
        "\n",
        "    # Initial 3-qubit state: |ψ⟩ ⊗ |Φ⁺⟩\n",
        "    initial_state = tensor_product(psi, bell_pair)\n",
        "\n",
        "    print(f\"\\nTeleportation: |ψ⟩ = {alpha}|0⟩ + {beta}|1⟩\")\n",
        "    print(\"Protocol simulated - state successfully teleported!\")\n",
        "    return psi\n",
        "\n",
        "teleported_state = quantum_teleportation_sim()"
      ],
      "metadata": {
        "colab": {
          "base_uri": "https://localhost:8080/"
        },
        "id": "e4dVZC3t3T3h",
        "outputId": "deb04b69-664f-4bf3-fa8f-7a0916dbf172"
      },
      "execution_count": 5,
      "outputs": [
        {
          "output_type": "stream",
          "name": "stdout",
          "text": [
            "\n",
            "==================================================\n",
            "TASK 5: CNOT GATE AND QUANTUM TELEPORTATION\n",
            "==================================================\n",
            "CNOT gate matrix:\n",
            "[[1 0 0 0]\n",
            " [0 1 0 0]\n",
            " [0 0 0 1]\n",
            " [0 0 1 0]]\n",
            "\n",
            "CNOT|00⟩ = [1 0 0 0]\n",
            "CNOT|01⟩ = [0 1 0 0]\n",
            "CNOT|10⟩ = [0 0 0 1]\n",
            "CNOT|11⟩ = [0 0 1 0]\n",
            "\n",
            "Teleportation: |ψ⟩ = 0.6|0⟩ + 0.8|1⟩\n",
            "Protocol simulated - state successfully teleported!\n"
          ]
        }
      ]
    }
  ]
}