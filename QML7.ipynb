{
  "nbformat": 4,
  "nbformat_minor": 0,
  "metadata": {
    "colab": {
      "provenance": [],
      "authorship_tag": "ABX9TyOJeQMaxBcx/xfJQNyWj1Vx",
      "include_colab_link": true
    },
    "kernelspec": {
      "name": "python3",
      "display_name": "Python 3"
    },
    "language_info": {
      "name": "python"
    }
  },
  "cells": [
    {
      "cell_type": "markdown",
      "metadata": {
        "id": "view-in-github",
        "colab_type": "text"
      },
      "source": [
        "<a href=\"https://colab.research.google.com/github/vishalvarasala/QML/blob/main/QML7.ipynb\" target=\"_parent\"><img src=\"https://colab.research.google.com/assets/colab-badge.svg\" alt=\"Open In Colab\"/></a>"
      ]
    },
    {
      "cell_type": "code",
      "execution_count": 2,
      "metadata": {
        "colab": {
          "base_uri": "https://localhost:8080/"
        },
        "id": "kXCDmtczI-v1",
        "outputId": "2ba6c63e-586f-4f40-e148-2315240c031a"
      },
      "outputs": [
        {
          "output_type": "stream",
          "name": "stdout",
          "text": [
            "\n",
            "==================================================\n",
            "TASK 7: GROVER'S ORACLE (2-QUBIT)\n",
            "==================================================\n",
            "Oracle marking |00⟩:\n",
            "[[-1.  0.  0.  0.]\n",
            " [ 0.  1.  0.  0.]\n",
            " [ 0.  0.  1.  0.]\n",
            " [ 0.  0.  0.  1.]]\n",
            "\n",
            "Oracle marking |11⟩:\n",
            "[[ 1.  0.  0.  0.]\n",
            " [ 0.  1.  0.  0.]\n",
            " [ 0.  0.  1.  0.]\n",
            " [ 0.  0.  0. -1.]]\n",
            "\n",
            "Uniform superposition: [0.5 0.5 0.5 0.5]\n",
            "After oracle (|11⟩ marked): [ 0.5  0.5  0.5 -0.5]\n"
          ]
        }
      ],
      "source": [
        "import numpy as np\n",
        "\n",
        "print(\"\\n\" + \"=\"*50)\n",
        "print(\"TASK 7: GROVER'S ORACLE (2-QUBIT)\")\n",
        "print(\"=\"*50)\n",
        "\n",
        "def grover_oracle_2qubit(marked_state=3):\n",
        "    \"\"\"Create 2-qubit Grover oracle that marks specified state\"\"\"\n",
        "    oracle = np.eye(4)\n",
        "    oracle[marked_state, marked_state] = -1  # Mark the target state\n",
        "    return oracle\n",
        "\n",
        "# Create oracle for different marked states\n",
        "oracle_0 = grover_oracle_2qubit(0)  # Marks |00⟩\n",
        "oracle_3 = grover_oracle_2qubit(3)  # Marks |11⟩\n",
        "\n",
        "print(\"Oracle marking |00⟩:\")\n",
        "print(oracle_0)\n",
        "print(\"\\nOracle marking |11⟩:\")\n",
        "print(oracle_3)\n",
        "\n",
        "# Test oracle on uniform superposition\n",
        "uniform_superposition = np.ones(4) / 2  # (|00⟩ + |01⟩ + |10⟩ + |11⟩)/2\n",
        "\n",
        "print(f\"\\nUniform superposition: {uniform_superposition}\")\n",
        "print(f\"After oracle (|11⟩ marked): {oracle_3 @ uniform_superposition}\")"
      ]
    }
  ]
}